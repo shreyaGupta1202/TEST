{
 "cells": [
  {
   "attachments": {},
   "cell_type": "markdown",
   "metadata": {},
   "source": [
    "# WHAT IS SCIPY ?\n",
    "\n",
    "SciPy is a scientific computation library that uses NumPy underneath. \\\n",
    "SciPy stands for Scientific Python. \\\n",
    "It provides more utility functions for optimization, stats and signal processing. \\\n",
    "Like NumPy, SciPy is open source so we can use it freely. \\\n",
    "SciPy was created by NumPy's creator Travis Olliphant. "
   ]
  },
  {
   "attachments": {},
   "cell_type": "markdown",
   "metadata": {},
   "source": [
    "# WHY USE SCIPY ? \n",
    "\n",
    "If SciPy uses NumPy underneath, why can we not just use NumPy ? \\\n",
    "SciPy has optimized and added functions that are frequently used in NumPy and Data Science."
   ]
  },
  {
   "attachments": {},
   "cell_type": "markdown",
   "metadata": {},
   "source": [
    "# WHICH LANGUAGE IS SCIPY WRITTEN IN ?\n",
    "\n",
    "SciPy is predominantly written in Python, but a few segments are written in C. \\\n",
    "The source code for SciPy is located at this github repository https://github.com/scipy/scipy"
   ]
  },
  {
   "attachments": {},
   "cell_type": "markdown",
   "metadata": {},
   "source": [
    "# INSTALLATION :\n",
    "\n",
    "If you have Python and PIP already installed on a system, then installation of SciPy is very easy. \n",
    "\n",
    "Regular users : \\\n",
    "Install it using this command: C:\\Users\\Your Name>pip install scipy\n",
    "\n",
    "VSCode Users :\\\n",
    "Simply open a new terminal run the command : pip install scipy\n",
    "\n",
    "If the commands fail, then use a Python distribution that already has SciPy installed like, Anaconda, Spyder etc.\n",
    "\n",
    "After installing scipy, simply run : import scipy"
   ]
  },
  {
   "cell_type": "code",
   "execution_count": 2,
   "metadata": {},
   "outputs": [],
   "source": [
    "import scipy"
   ]
  }
 ],
 "metadata": {
  "kernelspec": {
   "display_name": "Python 3",
   "language": "python",
   "name": "python3"
  },
  "language_info": {
   "codemirror_mode": {
    "name": "ipython",
    "version": 3
   },
   "file_extension": ".py",
   "mimetype": "text/x-python",
   "name": "python",
   "nbconvert_exporter": "python",
   "pygments_lexer": "ipython3",
   "version": "3.11.1"
  },
  "orig_nbformat": 4
 },
 "nbformat": 4,
 "nbformat_minor": 2
}
