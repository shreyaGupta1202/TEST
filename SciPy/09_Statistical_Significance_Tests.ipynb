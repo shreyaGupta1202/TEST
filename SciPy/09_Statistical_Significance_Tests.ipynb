{
 "cells": [
  {
   "attachments": {},
   "cell_type": "markdown",
   "metadata": {},
   "source": [
    "# STATISTICAL SIGNIFICANCE :\n",
    "\n",
    "In statistics, statistical significance means that the result that was produced has a reason behind it, it was not produced randomly, or by chance.\n",
    "\n",
    "SciPy provides us with a module called scipy.stats, which has functions for performing statistical significance tests.\n",
    "\n",
    "Here are some techniques and keywords that are important when performing such tests:"
   ]
  },
  {
   "attachments": {},
   "cell_type": "markdown",
   "metadata": {},
   "source": [
    "# HYPOTHESIS IN STATISTICS : \n",
    "Hypothesis is an assumption about a parameter in population.\n",
    "\n",
    "# NULL HYPOTHESIS : \n",
    "It assumes that the observation is not statistically significant.\n",
    "\n",
    "# ALTERNATE HYPOTHESIS : \n",
    "It assumes that the observations are due to some reason.\n",
    "\n",
    "It's alternate to Null Hypothesis.\n",
    "\n",
    "Example: \\\n",
    "For an assessment of a student we would take:\n",
    "\n",
    "\"student is worse than average\" - as a null hypothesis, and \\\n",
    "\"student is better than average\" - as an alternate hypothesis.\n",
    "\n",
    "# ONE TAILED TEST : \n",
    "When our hypothesis is testing for one side of the value only, it is called \"one tailed test\".\n",
    "\n",
    "Example:\n",
    "\n",
    "For the null hypothesis: \\\n",
    "\"the mean is equal to k\", we can have alternate hypothesis:\n",
    "\n",
    "\"the mean is less than k\", or \\\n",
    "\"the mean is greater than k\"\n",
    "\n",
    "# TWO TAILED TEST :\n",
    "When our hypothesis is testing for both side of the values.\n",
    "\n",
    "Example: \\\n",
    "For the null hypothesis:\n",
    "\n",
    "\"the mean is equal to k\", we can have alternate hypothesis: \\\n",
    "\"the mean is not equal to k\"\n",
    "\n",
    "In this case the mean is less than, or greater than k, and both sides are to be checked.\n",
    "\n",
    "# APLHA VALUE : \n",
    "Alpha value is the level of significance.\n",
    "\n",
    "Example: \\\n",
    "How close to extremes the data must be for null hypothesis to be rejected.\n",
    "\n",
    "It is usually taken as 0.01, 0.05, or 0.1. \n",
    "\n",
    "# P VALUE : \n",
    "P value tells how close to extreme the data actually is.\n",
    "\n",
    "P value and alpha values are compared to establish the statistical significance.\n",
    "\n",
    "If p value <= alpha we reject the null hypothesis and say that the data is statistically significant. otherwise we accept the null hypothesis."
   ]
  },
  {
   "attachments": {},
   "cell_type": "markdown",
   "metadata": {},
   "source": [
    "# T-Test : \n",
    "T-tests are used to determine if there is significant deference between means of two variables and lets us know if they belong to the same distribution.\n",
    "\n",
    "It is a two tailed test.\n",
    "\n",
    "The function ttest_ind() takes two samples of same size and produces a tuple of t-statistic and p-value."
   ]
  },
  {
   "cell_type": "code",
   "execution_count": 1,
   "metadata": {},
   "outputs": [
    {
     "name": "stdout",
     "output_type": "stream",
     "text": [
      "Ttest_indResult(statistic=1.1697619683547056, pvalue=0.24350293481840996)\n"
     ]
    }
   ],
   "source": [
    "#Find if the given values v1 and v2 are from same distribution:\n",
    "\n",
    "import numpy as np\n",
    "from scipy.stats import ttest_ind\n",
    "\n",
    "v1 = np.random.normal(size=100)\n",
    "v2 = np.random.normal(size=100)\n",
    "\n",
    "res = ttest_ind(v1, v2)\n",
    "\n",
    "print(res)"
   ]
  },
  {
   "cell_type": "code",
   "execution_count": 3,
   "metadata": {},
   "outputs": [
    {
     "name": "stdout",
     "output_type": "stream",
     "text": [
      "0.24350293481840996\n"
     ]
    }
   ],
   "source": [
    "#If you want to return only the p-value, use the pvalue property:\n",
    "\n",
    "res = ttest_ind(v1, v2).pvalue\n",
    "\n",
    "print(res)"
   ]
  },
  {
   "attachments": {},
   "cell_type": "markdown",
   "metadata": {},
   "source": [
    "# KS TEST :\n",
    "\n",
    "KS test is used to check if given values follow a distribution. \\\n",
    "The function takes the value to be tested, and the CDF as two parameters.\n",
    "\n",
    "A CDF can be either a string or a callable function that returns the probability. \\\n",
    "It can be used as a one tailed or two tailed test.\n",
    "\n",
    "By default it is two tailed. We can pass parameter alternative as a string of one of two-sided, less, or greater."
   ]
  },
  {
   "cell_type": "code",
   "execution_count": 4,
   "metadata": {},
   "outputs": [
    {
     "name": "stdout",
     "output_type": "stream",
     "text": [
      "KstestResult(statistic=0.0586475318648359, pvalue=0.8614755171305211, statistic_location=-1.0742627476601894, statistic_sign=1)\n"
     ]
    }
   ],
   "source": [
    "import numpy as np\n",
    "from scipy.stats import kstest\n",
    "\n",
    "v = np.random.normal(size=100)\n",
    "\n",
    "res = kstest(v, 'norm')\n",
    "\n",
    "print(res)"
   ]
  },
  {
   "attachments": {},
   "cell_type": "markdown",
   "metadata": {},
   "source": [
    "# STATISTICAL REPRESENTATION OF DATA :\n",
    "\n",
    "In order to see a summary of values in an array, we can use the describe() function.\n",
    "\n",
    "It returns the following description:\n",
    "\n",
    "1. number of observations (nobs)\n",
    "2. minimum and maximum values = minmax\n",
    "3. mean\n",
    "4. variance\n",
    "5. skewness\n",
    "6. kurtosis"
   ]
  },
  {
   "cell_type": "code",
   "execution_count": 5,
   "metadata": {},
   "outputs": [
    {
     "name": "stdout",
     "output_type": "stream",
     "text": [
      "DescribeResult(nobs=100, minmax=(-2.5239380337868935, 2.457896559749554), mean=0.08405407587427936, variance=1.1326783726966414, skewness=0.04683596349666958, kurtosis=-0.403082749388735)\n"
     ]
    }
   ],
   "source": [
    "#Show statistical description of the values in an array:\n",
    "\n",
    "import numpy as np\n",
    "from scipy.stats import describe\n",
    "\n",
    "v = np.random.normal(size=100)\n",
    "res = describe(v)\n",
    "\n",
    "print(res)"
   ]
  },
  {
   "attachments": {},
   "cell_type": "markdown",
   "metadata": {},
   "source": [
    "# NORMALITY TESTS (SKEWNESS AND KURTOSIS) :\n",
    "\n",
    "Normality tests are based on the skewness and kurtosis.\n",
    "\n",
    "The normaltest() function returns p value for the null hypothesis:\n",
    "\n",
    "\"x comes from a normal distribution\"."
   ]
  },
  {
   "attachments": {},
   "cell_type": "markdown",
   "metadata": {},
   "source": [
    "Skewness:\n",
    "A measure of symmetry in data. \\\n",
    "For normal distributions it is 0. \\\n",
    "If it is negative, it means the data is skewed left. \\\n",
    "If it is positive it means the data is skewed right.\n",
    "\n",
    "Kurtosis:\n",
    "A measure of whether the data is heavy or lightly tailed to a normal distribution. \\\n",
    "Positive kurtosis means heavy tailed. \\\n",
    "Negative kurtosis means lightly tailed.\n",
    "\n"
   ]
  },
  {
   "cell_type": "code",
   "execution_count": 6,
   "metadata": {},
   "outputs": [
    {
     "name": "stdout",
     "output_type": "stream",
     "text": [
      "0.11230848708170908\n",
      "-0.17934119708021568\n"
     ]
    }
   ],
   "source": [
    "#Find skewness and kurtosis of values in an array:\n",
    "\n",
    "import numpy as np\n",
    "from scipy.stats import skew, kurtosis\n",
    "\n",
    "v = np.random.normal(size=100)\n",
    "\n",
    "print(skew(v))\n",
    "print(kurtosis(v))"
   ]
  },
  {
   "cell_type": "code",
   "execution_count": 7,
   "metadata": {},
   "outputs": [
    {
     "name": "stdout",
     "output_type": "stream",
     "text": [
      "NormaltestResult(statistic=2.0135781882372803, pvalue=0.3653903319799225)\n"
     ]
    }
   ],
   "source": [
    "#Find if the data comes from a normal distribution:\n",
    "\n",
    "import numpy as np\n",
    "from scipy.stats import normaltest\n",
    "\n",
    "v = np.random.normal(size=100)\n",
    "\n",
    "print(normaltest(v))"
   ]
  }
 ],
 "metadata": {
  "kernelspec": {
   "display_name": "Python 3",
   "language": "python",
   "name": "python3"
  },
  "language_info": {
   "codemirror_mode": {
    "name": "ipython",
    "version": 3
   },
   "file_extension": ".py",
   "mimetype": "text/x-python",
   "name": "python",
   "nbconvert_exporter": "python",
   "pygments_lexer": "ipython3",
   "version": "3.11.1"
  },
  "orig_nbformat": 4,
  "vscode": {
   "interpreter": {
    "hash": "757f5300640ba8b3852e4b07c92f05ca44ba03e129d1896ca771d90b292295ba"
   }
  }
 },
 "nbformat": 4,
 "nbformat_minor": 2
}
